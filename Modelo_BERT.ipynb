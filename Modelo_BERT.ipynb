{
  "nbformat": 4,
  "nbformat_minor": 0,
  "metadata": {
    "colab": {
      "provenance": []
    },
    "kernelspec": {
      "name": "python3",
      "display_name": "Python 3"
    }
  },
  "cells": [
    {
      "cell_type": "markdown",
      "metadata": {
        "id": "1OG5DT_dm6mk"
      },
      "source": [
        "# Aula 3_4 - BERT\n",
        "\n",
        "Nome:"
      ]
    },
    {
      "cell_type": "markdown",
      "metadata": {
        "id": "LZ80hHaftwUd"
      },
      "source": [
        "## Instruções:\n",
        "\n",
        "\n",
        "Criar um modelo de linguagem e medir a perplexidade utilizando o dataset do Machado de Assis, utilizando Embeddings gerados por um BERT pré-treinado e uma MLP.\n",
        "\n",
        "- Deve-se implementar o próprio laço de treinamento. **Não usar frameworks de treinamento automático.**\n",
        "- Utilizar o BertModel.from_pretrained e BertTokenizer.from_pretrained do Hugging Face para carregar o BERT pré-treinado.\n",
        "- Não utilize outras classes da HuggingFace/Transformers alem da [BertModel](https://huggingface.co/docs/transformers/model_doc/bert#transformers.BertModel) e [BertTokenizer](https://huggingface.co/docs/transformers/model_doc/bert#transformers.BertTokenizer).\n",
        "- Trabalhe no espaço dos tokens/inteiros. Uma forma de fazer isso é tokenizar o dataset inteiro como pré-processamento.\n",
        "- Experimente com aumentar o contexto e congelar ou não os parâmetros do BERT. Cuidado que o contexto é o maior fator para o peso computacional aqui.\n",
        "- Sugerimos utilizar um BERT treinado em português como o BerTimbau: \"neuralmind/bert-base-portuguese-cased\".\n",
        "- Inicialmente utilizar o hidden_state do token CLS. Podem experimentar com outras formas de usar o last_hidden_state.\n",
        "- MLP deve utilizar o vocab_size do BERT na saída. Isso gera um grande desafio de manter o tamanho da MLP razoável.\n",
        "- Deixe para usar GPU somente quando tudo estiver validado em parte pequena do dataset. Uma época pode demorar 30 minutos ou mais no dataset inteiro.\n",
        "\n",
        "Opcional:\n",
        "- Utilize bfloat16 para economizar memória da GPU."
      ]
    },
    {
      "cell_type": "code",
      "source": [
        "from transformers import BertModel, BertTokenizer\n",
        "from collections import Counter\n",
        "import torch.nn.functional as F\n",
        "import matplotlib.pyplot as plt\n",
        "import torch.nn as nn\n",
        "import torch\n",
        "import numpy as np\n",
        "import random\n",
        "import os\n",
        "import re\n",
        "\n",
        "from typing import Sequence\n",
        "from torch.utils.data import Dataset\n",
        "from torch.utils.data import random_split\n",
        "from torch.utils.data import DataLoader\n",
        "\n",
        "from transformers import BertModel\n",
        "import time\n",
        "\n",
        "import torch.optim as optim"
      ],
      "metadata": {
        "id": "btkFGOt0X3jf"
      },
      "execution_count": 38,
      "outputs": []
    },
    {
      "cell_type": "code",
      "metadata": {
        "colab": {
          "base_uri": "https://localhost:8080/"
        },
        "id": "wHeZ9nAOEB0U",
        "outputId": "c5395efa-8881-49a6-e539-2b6ac89737a4"
      },
      "source": [
        "random.seed(123)\n",
        "np.random.seed(123)\n",
        "torch.manual_seed(123)"
      ],
      "execution_count": 39,
      "outputs": [
        {
          "output_type": "execute_result",
          "data": {
            "text/plain": [
              "<torch._C.Generator at 0x7f80259c09f0>"
            ]
          },
          "metadata": {},
          "execution_count": 39
        }
      ]
    },
    {
      "cell_type": "markdown",
      "metadata": {
        "id": "CXFdJz2KVeQw"
      },
      "source": [
        "## Dados\n",
        "\n",
        "Vamos usar o mesmo dataset do Machado de Assis.\n",
        "\n"
      ]
    },
    {
      "cell_type": "code",
      "source": [
        "!git clone https://github.com/ethelbeluzzi/projetomachado"
      ],
      "metadata": {
        "id": "qP6lAMiNkGou",
        "colab": {
          "base_uri": "https://localhost:8080/"
        },
        "outputId": "307ad549-14a0-4d9a-b928-c58bd8a4bff1"
      },
      "execution_count": 40,
      "outputs": [
        {
          "output_type": "stream",
          "name": "stdout",
          "text": [
            "fatal: destination path 'projetomachado' already exists and is not an empty directory.\n"
          ]
        }
      ]
    },
    {
      "cell_type": "code",
      "source": [
        "DATA_PATH = os.path.join(\"projetomachado\", \"textonormalizado1000.txt\")"
      ],
      "metadata": {
        "id": "laO_b1VxZPqq"
      },
      "execution_count": 41,
      "outputs": []
    },
    {
      "cell_type": "code",
      "source": [
        "def read_corpus(path: str) -> Sequence[str]:\n",
        "    \"\"\"\n",
        "    Lê um arquivo de texto e retorna uma lista de parágrafos.\n",
        "    \"\"\"\n",
        "\n",
        "    # Abre o arquivo e lê suas linhas, removendo espaços em branco e linhas vazias\n",
        "    with open(path, \"r\") as data_file:\n",
        "        data_text = [line.strip() for line in data_file if line.strip()]\n",
        "\n",
        "    corpus = []  # Lista para armazenar os parágrafos processados\n",
        "    current_paragraph = \"\"  # String que acumula as linhas até formar um parágrafo completo\n",
        "\n",
        "    # Itera sobre as linhas do texto\n",
        "    for i, line in enumerate(data_text):\n",
        "        # Verifica se a linha termina com pontuação indicando o fim de uma frase\n",
        "        if line[-1] in (\".\", \"!\", \"?\"):\n",
        "            # Se sim, adiciona a linha ao parágrafo atual e finaliza o parágrafo\n",
        "            current_paragraph += line\n",
        "            corpus.append(current_paragraph)  # Armazena o parágrafo completo na lista corpus\n",
        "            current_paragraph = \"\"  # Reinicia para começar um novo parágrafo\n",
        "        else:\n",
        "            # Caso contrário, continua acumulando a linha no parágrafo atual\n",
        "            current_paragraph += f\"{line} \"\n",
        "\n",
        "    # Adiciona o último parágrafo, caso não tenha sido finalizado dentro do loop\n",
        "    if current_paragraph:\n",
        "        corpus.append(current_paragraph.strip())  # Remove espaços extras antes de adicionar\n",
        "\n",
        "    return corpus, data_text  # Retorna a lista de parágrafos e as linhas do arquivo\n",
        "\n",
        "def text_statistics(data_text: Sequence[str]):\n",
        "    \"\"\"\n",
        "    Calcula e imprime o número total de linhas, palavras e caracteres.\n",
        "    \"\"\"\n",
        "    total_lines = len(data_text)\n",
        "    total_words = sum(len(line.split()) for line in data_text)\n",
        "    total_characters = sum(len(line) for line in data_text)\n",
        "\n",
        "    print(f\"Total de linhas: {total_lines}\")\n",
        "    print(f\"Total de palavras: {total_words}\")\n",
        "    print(f\"Total de caracteres: {total_characters}\\n\")\n",
        "\n",
        "# Chama a função e exibe as estatísticas\n",
        "corpus, data_text = read_corpus(DATA_PATH)\n",
        "text_statistics(data_text)\n",
        "\n",
        "# É possível voltar a um texto monolítico juntando as linhas.\n",
        "full_data = ' '.join(data_text)\n",
        "full_data[:1000]"
      ],
      "metadata": {
        "colab": {
          "base_uri": "https://localhost:8080/",
          "height": 214
        },
        "id": "RyfMuVFNc9AD",
        "outputId": "ba183f00-751b-4c7f-db43-8e9ae7ee6320"
      },
      "execution_count": 42,
      "outputs": [
        {
          "output_type": "stream",
          "name": "stdout",
          "text": [
            "Total de linhas: 305276\n",
            "Total de palavras: 3289646\n",
            "Total de caracteres: 18539036\n",
            "\n"
          ]
        },
        {
          "output_type": "execute_result",
          "data": {
            "text/plain": [
              "'1 MINISTÉRIO DA CULTURA Fundação Biblioteca Nacional Departamento Nacional do Livro A MÃO E A LUVA Machado de Assis I O fim da carta Mas que pretendes fazer agora? Morrer. Morrer? Que idéia! Deixate disso, Estêvão. Não se morre por tão pouco... Morrese. Quem não padece estas dores não as pode avaliar. O golpe foi profundo, e o meu coração é pusilânime; por mais aborrecível que pareça a idéia da morte, pior, muito pior do que ela, é a de viver. Ah! tu não sabes o que isto é? Sei: um namoro gorado... Luís! ... E se em cada caso de namoro gorado morresse um homem, tinha já diminuído muito o gênero humano, e Malthus perderia o latim. Anda, sobe. Estêvão meteu a mão nos cabelos com um gesto de angústia; Luís Alves sacudiu a cabeça e sorriu. Achavamse os dois no corredor da casa de Luís Alves, à rua da Constituição,  que então se chamava dos Ciganos;  então, isto é, em 1853, uma bagatela de vinte anos que lá vão, levando talvez consigo as ilusões do leitor, e deixandolhe em troca usurários! '"
            ],
            "application/vnd.google.colaboratory.intrinsic+json": {
              "type": "string"
            }
          },
          "metadata": {},
          "execution_count": 42
        }
      ]
    },
    {
      "cell_type": "code",
      "source": [
        "# Check data distribution\n",
        "line_lens = [len(line.split()) for line in data_text]\n",
        "plt.title(\"Histograma\")\n",
        "plt.hist(line_lens, bins=100, range=(0, 400))\n",
        "plt.xlabel(\"~Words\")\n",
        "plt.show()"
      ],
      "metadata": {
        "colab": {
          "base_uri": "https://localhost:8080/",
          "height": 472
        },
        "id": "TE8DcVfhdmLZ",
        "outputId": "e214dbf6-63d8-4dd7-80b9-95cb44d86b2d"
      },
      "execution_count": 43,
      "outputs": [
        {
          "output_type": "display_data",
          "data": {
            "text/plain": [
              "<Figure size 640x480 with 1 Axes>"
            ],
            "image/png": "[encoded data removed]"
          },
          "metadata": {}
        }
      ]
    },
    {
      "cell_type": "code",
      "source": [
        "# Separar em treino e teste\n",
        "limit = int(0.8*len(full_data))\n",
        "train_data = full_data[:limit]\n",
        "val_data = full_data[limit:]\n",
        "\n",
        "# Não utilize o split val para nada a partir daqui, somente validar\n",
        "len(train_data), len(val_data)"
      ],
      "metadata": {
        "id": "eQHK1Hgtd-2P",
        "colab": {
          "base_uri": "https://localhost:8080/"
        },
        "outputId": "28ca80a9-2d85-444c-a545-82418f59eb5f"
      },
      "execution_count": 44,
      "outputs": [
        {
          "output_type": "execute_result",
          "data": {
            "text/plain": [
              "(15075448, 3768863)"
            ]
          },
          "metadata": {},
          "execution_count": 44
        }
      ]
    },
    {
      "cell_type": "markdown",
      "source": [
        "## Tokenizer\n",
        "-Testar com strings\\\n",
        "-Tokens especiais\\\n",
        "-Tokenize\\\n",
        "-Decode\\\n",
        "-Batch e padding\n"
      ],
      "metadata": {
        "id": "2N420W3HvXJr"
      }
    },
    {
      "cell_type": "code",
      "source": [
        "tokenizer = BertTokenizer.from_pretrained('bert-base-uncased')"
      ],
      "metadata": {
        "id": "2MxZsIaLhOxz"
      },
      "execution_count": 45,
      "outputs": []
    },
    {
      "source": [
        "# Certifique-se de que 'total_lines' está definido e contém os dados que você deseja fatiar.\n",
        "# Por exemplo, se 'full_data' contiver os dados com os quais você deseja trabalhar, use a linha abaixo:\n",
        "total_lines = full_data[:1000]\n",
        "\n",
        "# Se você pretende usar uma variável diferente, substitua 'full_data' pelo nome correto da variável."
      ],
      "cell_type": "code",
      "metadata": {
        "id": "ctBg2745P8yz"
      },
      "execution_count": 46,
      "outputs": []
    },
    {
      "cell_type": "code",
      "source": [
        "# Definindo o tamanho do contexto: 5 palavras de entrada. O target é a próxima palavra\n",
        "context_size = 5\n",
        "\n",
        "class MachadoDataset(Dataset):\n",
        "    def __init__(self, text, context_size, tokenizer):\n",
        "        self.context_size = context_size\n",
        "\n",
        "        mono_words = []\n",
        "        inputs = []\n",
        "        output = []\n",
        "\n",
        "        # Processa cada linha do texto e extrai palavras\n",
        "        for line in text:\n",
        "            words = self.split_text(line)\n",
        "            mono_words.extend(words)\n",
        "\n",
        "        # Cria janelas deslizantes de palavras para gerar entradas e saídas\n",
        "        for i in range(len(mono_words) - context_size):\n",
        "            data = mono_words[i:i + context_size + 1]\n",
        "            target_word = data[-1]\n",
        "\n",
        "            # Verifica se a palavra alvo é composta por apenas um token\n",
        "            if len(tokenizer.tokenize(target_word)) != 1:\n",
        "                continue\n",
        "\n",
        "            inputs.append(' '.join(data[:-1]))  # Palavras de entrada\n",
        "            output.append(target_word)  # Próxima palavra como saída\n",
        "\n",
        "        # Tokeniza os dados de entrada\n",
        "        tokenized_inputs = tokenizer(inputs, return_tensors='pt',\n",
        "                                     max_length=context_size + 5,  # sos + eos + 3\n",
        "                                     padding='max_length', truncation=True)\n",
        "        self.source = tokenized_inputs.input_ids\n",
        "        self.mask = tokenized_inputs.attention_mask\n",
        "        self.target = tokenizer(output, return_tensors='pt').input_ids[:, 1]  # Ignora o token de início\n",
        "\n",
        "    @staticmethod\n",
        "    def split_text(text):\n",
        "        # Separa o texto em palavras e pontuações\n",
        "        return re.findall(r'\\w+|[.,]', text)\n",
        "\n",
        "    def __len__(self):\n",
        "        # Retorna o número total de amostras no dataset\n",
        "        return len(self.target)\n",
        "\n",
        "    def __getitem__(self, idx):\n",
        "        # Retorna uma amostra do dataset no índice especificado\n",
        "        src = {'src': self.source[idx], 'mask': self.mask[idx]}\n",
        "        return src, self.target[idx]\n",
        "\n",
        "# Exemplo de uso do MachadoDataset\n",
        "my_dataset = MachadoDataset(total_lines, context_size, tokenizer)\n",
        "sample = my_dataset[0]\n",
        "\n",
        "print(f'Length of Dataset: {len(my_dataset)}')\n",
        "print('==> Sample <==')\n",
        "print(f'Source: {sample[0]}')\n",
        "print(f'Target: {sample[1]}')\n"
      ],
      "metadata": {
        "colab": {
          "base_uri": "https://localhost:8080/"
        },
        "id": "O447A8gHRCL2",
        "outputId": "03c5353b-eebd-4926-c579-ceef0078e5df"
      },
      "execution_count": 47,
      "outputs": [
        {
          "output_type": "stream",
          "name": "stdout",
          "text": [
            "Length of Dataset: 799\n",
            "==> Sample <==\n",
            "Source: {'src': tensor([ 101, 1015, 1049, 1045, 1050, 1045,  102,    0,    0,    0]), 'mask': tensor([1, 1, 1, 1, 1, 1, 1, 0, 0, 0])}\n",
            "Target: 1055\n"
          ]
        }
      ]
    },
    {
      "cell_type": "code",
      "source": [
        "# Definindo a proporção de divisão (80% treino, 20% validação)\n",
        "train_ratio = 0.8\n",
        "validation_ratio = 1 - train_ratio\n",
        "\n",
        "# Calculando os tamanhos dos datasets de treino e validação\n",
        "total_size = len(my_dataset)\n",
        "train_size = int(train_ratio * total_size)\n",
        "validation_size = total_size - train_size\n",
        "\n",
        "# Garantir que a divisão seja reprodutível com random_state=18\n",
        "generator = torch.Generator().manual_seed(18)\n",
        "\n",
        "# Dividindo o dataset em treino e validação\n",
        "train_dataset, validation_dataset = random_split(my_dataset,\n",
        "                                                 [train_size, validation_size],\n",
        "                                                 generator=generator)\n",
        "\n",
        "print(f'Tamanho do Dataset de Treino: {len(train_dataset)}')\n",
        "print(f'Tamanho do Dataset de Validação: {len(validation_dataset)}')\n"
      ],
      "metadata": {
        "colab": {
          "base_uri": "https://localhost:8080/"
        },
        "id": "Ut3i3SFoR2zg",
        "outputId": "6b68030c-5e1d-43cf-ef1c-58748e9de398"
      },
      "execution_count": 48,
      "outputs": [
        {
          "output_type": "stream",
          "name": "stdout",
          "text": [
            "Tamanho do Dataset de Treino: 639\n",
            "Tamanho do Dataset de Validação: 160\n"
          ]
        }
      ]
    },
    {
      "cell_type": "code",
      "source": [
        "# Definição do tamanho do lote\n",
        "batch_size = 128\n",
        "\n",
        "# Criação dos DataLoaders para os datasets de treino e validação\n",
        "train_loader = DataLoader(train_dataset, batch_size=batch_size, shuffle=True)\n",
        "val_loader = DataLoader(validation_dataset, batch_size=batch_size, shuffle=True)\n",
        "\n",
        "# Obtém um lote de exemplos do DataLoader de treino\n",
        "sample = next(iter(train_loader))\n",
        "\n",
        "# Exibe as dimensões dos tensores de entrada (source) e saída (target)\n",
        "print(f'Shape of source: {sample[0][\"src\"].shape}')\n",
        "print(f'Shape of target: {sample[1].shape}')\n"
      ],
      "metadata": {
        "colab": {
          "base_uri": "https://localhost:8080/"
        },
        "id": "RLuifMOlR6I9",
        "outputId": "848068dc-03df-4c96-e805-cb6246044b0d"
      },
      "execution_count": 49,
      "outputs": [
        {
          "output_type": "stream",
          "name": "stdout",
          "text": [
            "Shape of source: torch.Size([128, 10])\n",
            "Shape of target: torch.Size([128])\n"
          ]
        }
      ]
    },
    {
      "cell_type": "markdown",
      "metadata": {
        "id": "-5_-Yud0zJ_K"
      },
      "source": [
        "## Modelo"
      ]
    },
    {
      "cell_type": "code",
      "source": [
        "!pip install torchinfo -q"
      ],
      "metadata": {
        "id": "Yvx0NH6_kTya"
      },
      "execution_count": 50,
      "outputs": []
    },
    {
      "cell_type": "code",
      "source": [
        "import torchinfo\n",
        "from transformers import BertModel\n",
        "\n",
        "class LanguageModel(nn.Module):\n",
        "    \"\"\"\n",
        "    Modelo de linguagem baseado no BERT com uma MLP para predição da próxima palavra.\n",
        "    \"\"\"\n",
        "    def __init__(self, ff_hidden_layer):\n",
        "        \"\"\"\n",
        "        Inicializa o modelo BERT e as camadas lineares para predição.\n",
        "\n",
        "        Args:\n",
        "            ff_hidden_layer (int): Número de neurônios na camada oculta da MLP.\n",
        "        \"\"\"\n",
        "        super(LanguageModel, self).__init__()\n",
        "        # Carrega o modelo BERT pré-treinado\n",
        "        self.bert = BertModel.from_pretrained('neuralmind/bert-base-portuguese-cased')\n",
        "\n",
        "        # Inicializa as camadas lineares\n",
        "        self.fc1 = nn.Linear(self.bert.config.hidden_size, ff_hidden_layer)\n",
        "        self.fc2 = nn.Linear(ff_hidden_layer, self.bert.config.vocab_size)\n",
        "\n",
        "    def forward(self, input_ids, attention_mask=None, token_type_ids=None):\n",
        "        \"\"\"\n",
        "        Define a passagem direta pelo modelo.\n",
        "\n",
        "        Args:\n",
        "            input_ids (Tensor): IDs dos tokens de entrada.\n",
        "            attention_mask (Tensor, opcional): Máscara de atenção.\n",
        "            token_type_ids (Tensor, opcional): IDs dos tipos de token.\n",
        "\n",
        "        Returns:\n",
        "            Tensor: Logits preditos para cada token do vocabulário.\n",
        "        \"\"\"\n",
        "        # Passa os dados pelo BERT\n",
        "        outputs = self.bert(input_ids, attention_mask=attention_mask, token_type_ids=token_type_ids)\n",
        "\n",
        "        # Usa a saída do token [CLS]\n",
        "        cls_output = outputs.pooler_output\n",
        "\n",
        "        # Passa pela MLP\n",
        "        x = F.relu(self.fc1(cls_output))\n",
        "        logits = self.fc2(x)\n",
        "\n",
        "        return logits\n",
        "\n",
        "# Definir hiperparâmetros\n",
        "hidden_size = 600  # Número de neurônios na camada oculta\n",
        "\n",
        "# Instanciar o modelo\n",
        "model = LanguageModel(hidden_size)\n",
        "\n",
        "# Convertendo os parâmetros do modelo para uma lista\n",
        "params = list(model.named_parameters())\n",
        "\n",
        "# Imprimindo os parâmetros das duas últimas camadas\n",
        "for name, param in params[-4:]:\n",
        "    print(f\"Layer: {name} | Size: {list(param.size())}\")\n",
        "\n",
        "# Contando o número total de parâmetros\n",
        "total_params = sum(p.numel() for p in model.parameters())\n",
        "print(f\"\\nTotal number of parameters: {total_params}\")\n"
      ],
      "metadata": {
        "colab": {
          "base_uri": "https://localhost:8080/"
        },
        "id": "8EIBbeAgTkTy",
        "outputId": "e3c03018-4c4a-4c9c-da8c-f1c30b7744c1"
      },
      "execution_count": 51,
      "outputs": [
        {
          "output_type": "stream",
          "name": "stdout",
          "text": [
            "Layer: fc1.weight | Size: [600, 768]\n",
            "Layer: fc1.bias | Size: [600]\n",
            "Layer: fc2.weight | Size: [29794, 600]\n",
            "Layer: fc2.bias | Size: [29794]\n",
            "\n",
            "Total number of parameters: 127290730\n"
          ]
        }
      ]
    },
    {
      "cell_type": "code",
      "source": [
        "tokenizer(\"aborrecível que pareça a idéia\", return_tensors='pt').input_ids"
      ],
      "metadata": {
        "colab": {
          "base_uri": "https://localhost:8080/"
        },
        "id": "u7swDmd6kvP-",
        "outputId": "561f3990-9ed6-428e-a4b8-999ae1a139c6"
      },
      "execution_count": 52,
      "outputs": [
        {
          "output_type": "execute_result",
          "data": {
            "text/plain": [
              "tensor([[  101, 11113,  2953,  2890,  6895, 15985, 10861, 11968, 19281,  1037,\n",
              "          8909, 27958,   102]])"
            ]
          },
          "metadata": {},
          "execution_count": 52
        }
      ]
    },
    {
      "cell_type": "code",
      "source": [
        "# O que esta dentro da classe?\n",
        "torchinfo.summary(model,\n",
        "                  input_data=tokenizer(\"aborrecível que pareça a idéia\", return_tensors='pt').input_ids,\n",
        "                  depth=3)"
      ],
      "metadata": {
        "colab": {
          "base_uri": "https://localhost:8080/"
        },
        "id": "fYxpnef4kXPm",
        "outputId": "891bc1f4-4725-4350-cd80-3484fcf7eb35"
      },
      "execution_count": 53,
      "outputs": [
        {
          "output_type": "execute_result",
          "data": {
            "text/plain": [
              "==============================================================================================================\n",
              "Layer (type:depth-idx)                                       Output Shape              Param #\n",
              "==============================================================================================================\n",
              "LanguageModel                                                [1, 29794]                --\n",
              "├─BertModel: 1-1                                             [1, 768]                  --\n",
              "│    └─BertEmbeddings: 2-1                                   [1, 13, 768]              --\n",
              "│    │    └─Embedding: 3-1                                   [1, 13, 768]              22,881,792\n",
              "│    │    └─Embedding: 3-2                                   [1, 13, 768]              1,536\n",
              "│    │    └─Embedding: 3-3                                   [1, 13, 768]              393,216\n",
              "│    │    └─LayerNorm: 3-4                                   [1, 13, 768]              1,536\n",
              "│    │    └─Dropout: 3-5                                     [1, 13, 768]              --\n",
              "│    └─BertEncoder: 2-2                                      [1, 13, 768]              --\n",
              "│    │    └─ModuleList: 3-6                                  --                        85,054,464\n",
              "│    └─BertPooler: 2-3                                       [1, 768]                  --\n",
              "│    │    └─Linear: 3-7                                      [1, 768]                  590,592\n",
              "│    │    └─Tanh: 3-8                                        [1, 768]                  --\n",
              "├─Linear: 1-2                                                [1, 600]                  461,400\n",
              "├─Linear: 1-3                                                [1, 29794]                17,906,194\n",
              "==============================================================================================================\n",
              "Total params: 127,290,730\n",
              "Trainable params: 127,290,730\n",
              "Non-trainable params: 0\n",
              "Total mult-adds (M): 127.29\n",
              "==============================================================================================================\n",
              "Input size (MB): 0.00\n",
              "Forward/backward pass size (MB): 11.11\n",
              "Params size (MB): 509.16\n",
              "Estimated Total Size (MB): 520.27\n",
              "=============================================================================================================="
            ]
          },
          "metadata": {},
          "execution_count": 53
        }
      ]
    },
    {
      "cell_type": "code",
      "source": [
        "# Obter um lote de amostras do DataLoader de treino\n",
        "sample = next(iter(train_loader))\n",
        "\n",
        "# Passagem para frente (Forward pass)\n",
        "output = model(sample[0]['src'], sample[0]['mask'])\n",
        "\n",
        "# Exibir a forma da saída do modelo\n",
        "print(f'Shape of output: {output.shape}')\n",
        "\n",
        "# Exibir o tamanho do vocabulário do modelo BERT\n",
        "print(f'Vocab size: {model.bert.config.vocab_size}')\n",
        "\n",
        "# Exibir o tamanho do vocabulário do tokenizer\n",
        "print(f'Tokenizer vocab size: {tokenizer.vocab_size}')\n"
      ],
      "metadata": {
        "id": "_BH1VVXskn-P",
        "colab": {
          "base_uri": "https://localhost:8080/"
        },
        "outputId": "fcf16b32-14e2-4606-a198-5a81081da951"
      },
      "execution_count": 54,
      "outputs": [
        {
          "output_type": "stream",
          "name": "stdout",
          "text": [
            "Shape of output: torch.Size([128, 29794])\n",
            "Vocab size: 29794\n",
            "Tokenizer vocab size: 30522\n"
          ]
        }
      ]
    },
    {
      "cell_type": "markdown",
      "metadata": {
        "id": "wia_ygbvzJ_J"
      },
      "source": [
        "## Classe do dataset\n",
        "\n",
        "Utilize o Tokenizer do Bert na classe Dataset.\n",
        "Defina um tamanho de sequencia/contexto."
      ]
    },
    {
      "cell_type": "code",
      "source": [
        "# Verifica se há uma GPU disponível e define o dispositivo para GPU se possível, caso contrário, usa a CPU\n",
        "device = torch.device('cuda' if torch.cuda.is_available() else 'cpu')\n",
        "device"
      ],
      "metadata": {
        "colab": {
          "base_uri": "https://localhost:8080/"
        },
        "id": "ZYz0UbvWVsnF",
        "outputId": "8227a5cc-51d0-45d4-a142-baffafc8231b"
      },
      "execution_count": 55,
      "outputs": [
        {
          "output_type": "execute_result",
          "data": {
            "text/plain": [
              "device(type='cpu')"
            ]
          },
          "metadata": {},
          "execution_count": 55
        }
      ]
    },
    {
      "cell_type": "code",
      "source": [
        "# Definição do modelo LanguageModel (supondo que já esteja implementado)\n",
        "class LanguageModel(nn.Module):\n",
        "    def __init__(self, ff_hidden_layer):\n",
        "        super(LanguageModel, self).__init__()\n",
        "        self.bert = BertModel.from_pretrained('neuralmind/bert-base-portuguese-cased')\n",
        "        self.fc1 = nn.Linear(self.bert.config.hidden_size, ff_hidden_layer)\n",
        "        self.fc2 = nn.Linear(ff_hidden_layer, self.bert.config.vocab_size)\n",
        "\n",
        "    def forward(self, input_ids, attention_mask=None, token_type_ids=None):\n",
        "        outputs = self.bert(input_ids, attention_mask=attention_mask, token_type_ids=token_type_ids)\n",
        "        cls_output = outputs.pooler_output\n",
        "        x = F.relu(self.fc1(cls_output))\n",
        "        logits = self.fc2(x)\n",
        "        return logits\n",
        "\n",
        "# Definição da classe TrainHelper\n",
        "class TrainHelper:\n",
        "    \"\"\"\n",
        "    Classe auxiliar para o treinamento e validação de modelos.\n",
        "    \"\"\"\n",
        "    def __init__(self, model: nn.Module, device):\n",
        "        self.model = model.to(device)\n",
        "        self.device = device\n",
        "\n",
        "    def train_epoch(self, data_loader: torch.utils.data.DataLoader, criterion, optimizer) -> float:\n",
        "        \"\"\"\n",
        "        Executa uma época de treinamento.\n",
        "        \"\"\"\n",
        "        self.model.train()\n",
        "        total_loss = 0.0\n",
        "        total_acc = 0.0\n",
        "        total_samples = 0\n",
        "\n",
        "        for inputs, targets in data_loader:\n",
        "            inputs = {key: value.to(self.device) for key, value in inputs.items()}\n",
        "            targets = targets.to(self.device)\n",
        "            optimizer.zero_grad()\n",
        "\n",
        "            logits = self.model(inputs['src'], inputs['mask'])\n",
        "            loss = criterion(logits, targets)\n",
        "            loss.backward()\n",
        "            optimizer.step()\n",
        "\n",
        "            total_loss += loss.item() * targets.size(0)\n",
        "            preds = logits.argmax(dim=1)\n",
        "            total_acc += (preds == targets).sum().item()\n",
        "            total_samples += targets.size(0)\n",
        "\n",
        "        avg_loss = total_loss / total_samples\n",
        "        avg_acc = total_acc / total_samples * 100\n",
        "\n",
        "        return avg_loss, avg_acc\n",
        "\n",
        "    def validate(self, data_loader: torch.utils.data.DataLoader, criterion) -> float:\n",
        "        \"\"\"\n",
        "        Executa a validação do modelo.\n",
        "        \"\"\"\n",
        "        self.model.eval()\n",
        "        total_loss = 0.0\n",
        "        total_acc = 0.0\n",
        "        total_samples = 0\n",
        "\n",
        "        with torch.no_grad():\n",
        "            for inputs, targets in data_loader:\n",
        "                inputs = {key: value.to(self.device) for key, value in inputs.items()}\n",
        "                targets = targets.to(self.device)\n",
        "\n",
        "                logits = self.model(inputs['src'], inputs['mask'])\n",
        "                loss = criterion(logits, targets)\n",
        "\n",
        "                total_loss += loss.item() * targets.size(0)\n",
        "                preds = logits.argmax(dim=1)\n",
        "                total_acc += (preds == targets).sum().item()\n",
        "                total_samples += targets.size(0)\n",
        "\n",
        "        avg_loss = total_loss / total_samples\n",
        "        avg_acc = total_acc / total_samples * 100\n",
        "\n",
        "        return avg_loss, avg_acc\n",
        "\n",
        "# Hiperparâmetros\n",
        "epochs = 5\n",
        "lr = 5e-4\n",
        "hidden_size = 600\n",
        "\n",
        "# Instancia o modelo e move para o dispositivo adequado\n",
        "device = torch.device(\"cuda\" if torch.cuda.is_available() else \"cpu\")\n",
        "model = LanguageModel(hidden_size).to(device)\n",
        "\n",
        "# Congela todos os parâmetros do modelo\n",
        "for param in model.parameters():\n",
        "    param.requires_grad = False\n",
        "\n",
        "# Descongela os parâmetros das últimas camadas lineares\n",
        "for param in model.fc1.parameters():\n",
        "    param.requires_grad = True\n",
        "for param in model.fc2.parameters():\n",
        "    param.requires_grad = True\n",
        "\n",
        "# Configuração da função de perda e do otimizador\n",
        "criterion = nn.CrossEntropyLoss()\n",
        "optimizer = optim.AdamW(model.parameters(), lr=lr)\n",
        "\n",
        "# Cria um objeto TrainHelper para facilitar o treinamento e a validação\n",
        "helper = TrainHelper(model, device)\n",
        "\n",
        "# Inicializa as listas de perdas e métricas\n",
        "history = {\n",
        "    'train_loss': [],\n",
        "    'eval_loss': [],\n",
        "    'train_acc': [],\n",
        "    'eval_acc': []\n",
        "}\n",
        "\n",
        "# Cálculo da perplexidade inicial\n",
        "initial_val_loss, initial_val_acc = helper.validate(val_loader, criterion)\n",
        "initial_perplexity = torch.exp(torch.tensor(initial_val_loss))\n",
        "print(f'Initial Validation Loss: {initial_val_loss:.4f}, Initial Validation Accuracy: {initial_val_acc:.2f}%, '\n",
        "      f'Initial Perplexity: {initial_perplexity:.2f}')\n",
        "\n",
        "# Loop de treinamento\n",
        "for epoch in range(epochs):\n",
        "    start_time_epoch = time.time()  # Início da época\n",
        "\n",
        "    # Treinamento para uma época\n",
        "    train_loss, train_acc = helper.train_epoch(train_loader, criterion, optimizer)\n",
        "\n",
        "    # Avaliação após a época de treinamento\n",
        "    val_loss, val_acc = helper.validate(val_loader, criterion)\n",
        "\n",
        "    epoch_duration = time.time() - start_time_epoch  # Duração da época\n",
        "\n",
        "    # Armazenamento das métricas\n",
        "    history['train_loss'].append(train_loss)\n",
        "    history['train_acc'].append(train_acc)\n",
        "    history['eval_loss'].append(val_loss)\n",
        "    history['eval_acc'].append(val_acc)\n",
        "\n",
        "    # Cálculo da perplexidade\n",
        "    perplexity = torch.exp(torch.tensor(val_loss))\n",
        "\n",
        "    # Impressão dos resultados da época\n",
        "    print(f'Epoch [{epoch+1}/{epochs}], Train loss:{train_loss:.4f}, Train acc:{train_acc:.2f}%, '\n",
        "          f'Test loss:{val_loss:.4f}, Test acc: {val_acc:.2f}%, '\n",
        "          f'Perplexity:{perplexity:.2f}, Elapsed Time: {epoch_duration:.2f} sec')\n",
        "\n",
        "# Plotagem das curvas de perda e perplexidade\n",
        "plt.figure(figsize=(12, 6))\n",
        "\n",
        "plt.subplot(1, 2, 1)\n",
        "plt.plot(range(len(history['train_loss'])), history['train_loss'], label=\"Train Loss\")\n",
        "plt.plot(range(len(history['eval_loss'])), history['eval_loss'], label=\"Validation Loss\")\n",
        "plt.title(\"Loss\")\n",
        "plt.legend()\n",
        "\n",
        "plt.subplot(1, 2, 2)\n",
        "plt.plot(range(len(history['train_acc'])), history['train_acc'], label=\"Train Accuracy\")\n",
        "plt.plot(range(len(history['eval_acc'])), history['eval_acc'], label=\"Validation Accuracy\")\n",
        "plt.title(\"Accuracy\")\n",
        "plt.legend()\n",
        "\n",
        "plt.show()\n"
      ],
      "metadata": {
        "colab": {
          "base_uri": "https://localhost:8080/",
          "height": 652
        },
        "id": "lU-RylfLgzOU",
        "outputId": "201f9e80-f529-4244-fc5a-afeaff1bd669"
      },
      "execution_count": 69,
      "outputs": [
        {
          "output_type": "stream",
          "name": "stdout",
          "text": [
            "Initial Validation Loss: 10.2895, Initial Validation Accuracy: 0.00%, Initial Perplexity: 29421.84\n",
            "Epoch [1/5], Train loss:10.0595, Train acc:4.69%, Test loss:9.6876, Test acc: 10.00%, Perplexity:16116.97, Elapsed Time: 31.78 sec\n",
            "Epoch [2/5], Train loss:9.2701, Train acc:15.18%, Test loss:8.6656, Test acc: 11.88%, Perplexity:5799.99, Elapsed Time: 32.43 sec\n",
            "Epoch [3/5], Train loss:7.8851, Train acc:14.08%, Test loss:6.9465, Test acc: 13.12%, Perplexity:1039.51, Elapsed Time: 30.13 sec\n",
            "Epoch [4/5], Train loss:5.7314, Train acc:15.65%, Test loss:4.7338, Test acc: 10.62%, Perplexity:113.72, Elapsed Time: 30.38 sec\n",
            "Epoch [5/5], Train loss:3.8956, Train acc:14.08%, Test loss:3.7421, Test acc: 10.62%, Perplexity:42.18, Elapsed Time: 30.62 sec\n"
          ]
        },
        {
          "output_type": "display_data",
          "data": {
            "text/plain": [
              "<Figure size 1200x600 with 2 Axes>"
            ],
            "image/png": "[encoded data removed]"
          },
          "metadata": {}
        }
      ]
    },
    {
      "cell_type": "markdown",
      "metadata": {
        "id": "A1zhxVqfzJ_M"
      },
      "source": [
        "## Exemplo de uso"
      ]
    },
    {
      "cell_type": "code",
      "source": [
        "class NextWord(nn.Module):\n",
        "    \"\"\"\n",
        "    Classe para gerar a próxima palavra usando um modelo de linguagem.\n",
        "    \"\"\"\n",
        "    def __init__(self, language_model, context_size, tokenizer):\n",
        "        super(NextWord, self).__init__()\n",
        "        self.model = language_model\n",
        "        self.context_size = context_size\n",
        "        self.tokenizer = tokenizer\n",
        "\n",
        "    def __call__(self, text, max_length):\n",
        "        \"\"\"\n",
        "        Gera texto até atingir o comprimento máximo especificado.\n",
        "\n",
        "        Args:\n",
        "            text (str): Texto de entrada para começar a geração.\n",
        "            max_length (int): Comprimento máximo do texto gerado.\n",
        "\n",
        "        Returns:\n",
        "            str: Texto gerado.\n",
        "        \"\"\"\n",
        "        # Codifica o texto de entrada em tensores\n",
        "        input_ids = self.tokenizer.encode(text, return_tensors='pt')\n",
        "        input_ids = input_ids[:, 1:-1].to(device)  # Remove os tokens [SOS] e [EOS]\n",
        "\n",
        "        self.model.eval()  # Coloca o modelo em modo de avaliação\n",
        "        print('Output:', end=' ')\n",
        "\n",
        "        for step in range(input_ids.size(1), max_length):\n",
        "            # Obtém o contexto (últimos context_size tokens)\n",
        "            start_idx = max(0, step - self.context_size)\n",
        "            context = input_ids[:, start_idx:step]\n",
        "\n",
        "            # Adiciona os tokens [SOS] e [EOS] ao contexto\n",
        "            context = torch.cat((torch.tensor([[101]], device=device),  # [SOS]\n",
        "                                 context,\n",
        "                                 torch.tensor([[102]], device=device)), dim=1)  # [EOS]\n",
        "\n",
        "            # Gera logits para o contexto atual\n",
        "            logits = self.model(context)\n",
        "            next_token_id = logits.argmax(dim=1).unsqueeze(0)  # Obtém o token mais provável\n",
        "\n",
        "            print(next_token_id.squeeze(0).tolist(), end=' ')  # Imprime o token gerado\n",
        "            input_ids = torch.cat((input_ids, next_token_id), dim=1)  # Adiciona o token gerado à entrada\n",
        "\n",
        "        # Decodifica o texto gerado e retorna\n",
        "        output_text = self.tokenizer.decode(input_ids.squeeze(0).tolist())\n",
        "        print('\\nGenerated Text:')\n",
        "        return output_text\n",
        "\n",
        "# Instancia a classe NextWord com o modelo de linguagem e tokenizer\n",
        "next_word = NextWord(model, context_size, tokenizer)\n",
        "\n",
        "# Teste de geração de texto\n",
        "print(f'\\nTeste\\n')\n",
        "text = \"Estêvão meteu a mão\"\n",
        "max_length = 30\n",
        "generated_text = next_word(text, max_length)\n",
        "print(generated_text)\n"
      ],
      "metadata": {
        "colab": {
          "base_uri": "https://localhost:8080/"
        },
        "id": "W5FizUx9WZU3",
        "outputId": "8ee958f2-07db-4831-bfa5-44ebb44c7ccd"
      },
      "execution_count": 71,
      "outputs": [
        {
          "output_type": "stream",
          "name": "stdout",
          "text": [
            "\n",
            "Teste\n",
            "\n",
            "Output: [1041] [1041] [1041] [1037] [1037] [1041] [1041] [1041] [1041] [1041] [1037] [1037] [1041] [1041] [1041] [1041] [1041] [1037] [1037] [1041] [1041] [1041] [1041] [1041] \n",
            "Generated Text:\n",
            "estevao meteu a mao e e e a a e e e e e a a e e e e e a a e e e e e\n"
          ]
        }
      ]
    }
  ]
}
